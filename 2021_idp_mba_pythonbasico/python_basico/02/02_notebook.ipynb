{
 "cells": [
  {
   "cell_type": "markdown",
   "id": "republican-program",
   "metadata": {},
   "source": [
    "## Variáveis\n",
    "\n",
    "---\n",
    "\n",
    "Na aula anterior, imprimimos textos com a função `print()` [[doc](https://docs.python.org/pt-br/3.8/library/functions.html#print)]. Para recapitular:"
   ]
  },
  {
   "cell_type": "code",
   "execution_count": 1,
   "id": "solid-debut",
   "metadata": {},
   "outputs": [
    {
     "name": "stdout",
     "output_type": "stream",
     "text": [
      "Estamos na segunda aula!\n"
     ]
    }
   ],
   "source": [
    "print(\"Estamos na segunda aula!\")"
   ]
  },
  {
   "cell_type": "markdown",
   "id": "aggressive-logan",
   "metadata": {},
   "source": [
    "Mas e se a informação que queremos imprimir for muito extensa? Teremos de digitar tudo de novo sempre que quisermos imprimir?\n",
    "\n",
    "Nesses casos, usamos uma **variável**.\n",
    "\n",
    "Uma variável é **um nome que se refere a um valor** e fica temporariamente salvo na memória do computador. Sempre que chamarmos a variável, o valor será evocado.\n",
    "\n",
    "A atribuição é simples:\n",
    "\n",
    "```python\n",
    "variavel = valor\n",
    "```\n",
    "\n",
    "Vamos pegar como exemplo o primeiro parágrafo de \"Alice no País das Maravilhas\":\n",
    "\n",
    "> Alice estava começando a ficar muito cansada de estar sentada ao lado de sua irmã e não ter nada para fazer: uma vez ou duas ela dava uma olhadinha no livro que a irmã lia, mas não havia figuras ou diálogos nele e \"para que serve um livro\", pensou Alice, \"sem figuras nem diálogos?\""
   ]
  },
  {
   "cell_type": "code",
   "execution_count": 2,
   "id": "nearby-durham",
   "metadata": {},
   "outputs": [],
   "source": [
    "alice = 'Alice estava começando a ficar muito cansada de estar sentada ao lado de sua irmã e não ter nada para fazer: uma vez ou duas ela dava uma olhadinha no livro que a irmã lia, mas não havia figuras ou diálogos nele e \"para que serve um livro\", pensou Alice, \"sem figuras nem diálogos?\"'"
   ]
  },
  {
   "cell_type": "markdown",
   "id": "irish-layer",
   "metadata": {},
   "source": [
    "Este texto imenso agora está salvo com o \"apelido\" de `alice`. Sempre que quisermos usar o texto podemos chamá-lo pela variável:"
   ]
  },
  {
   "cell_type": "code",
   "execution_count": 3,
   "id": "driven-embassy",
   "metadata": {},
   "outputs": [
    {
     "name": "stdout",
     "output_type": "stream",
     "text": [
      "Alice estava começando a ficar muito cansada de estar sentada ao lado de sua irmã e não ter nada para fazer: uma vez ou duas ela dava uma olhadinha no livro que a irmã lia, mas não havia figuras ou diálogos nele e \"para que serve um livro\", pensou Alice, \"sem figuras nem diálogos?\"\n"
     ]
    }
   ],
   "source": [
    "print(alice)"
   ]
  },
  {
   "cell_type": "markdown",
   "id": "dated-collapse",
   "metadata": {},
   "source": [
    "Quer dizer... *quase* sempre. A variável perde seu valor quando:\n",
    "\n",
    "1. o script é encerrado;\n",
    "\n",
    "2. o valor é alterado.\n",
    "\n",
    "Sim, eu posso mudar o valor de uma variável já existente. Basta atribuir novo valor:"
   ]
  },
  {
   "cell_type": "code",
   "execution_count": 4,
   "id": "czech-competition",
   "metadata": {},
   "outputs": [
    {
     "name": "stdout",
     "output_type": "stream",
     "text": [
      "Valor anterior:  Alice estava começando a ficar muito cansada de estar sentada ao lado de sua irmã e não ter nada para fazer: uma vez ou duas ela dava uma olhadinha no livro que a irmã lia, mas não havia figuras ou diálogos nele e \"para que serve um livro\", pensou Alice, \"sem figuras nem diálogos?\"\n",
      "Valor novo:  Então ela pensava consigo mesma (tão bem quanto era possível naquele dia quente que a deixava sonolenta e estúpida) se o prazer de fazer um colar de margaridas era mais forte do que o esforço de ter de levantar e colher as margaridas, quando subitamente um Coelho Branco com olhos cor-de-rosa passou correndo perto dela.\n"
     ]
    }
   ],
   "source": [
    "print(\"Valor anterior: \", alice)\n",
    "alice = \"Então ela pensava consigo mesma (tão bem quanto era possível naquele dia quente que a deixava sonolenta e estúpida) se o prazer de fazer um colar de margaridas era mais forte do que o esforço de ter de levantar e colher as margaridas, quando subitamente um Coelho Branco com olhos cor-de-rosa passou correndo perto dela.\"\n",
    "print(\"Valor novo: \", alice)"
   ]
  },
  {
   "cell_type": "markdown",
   "id": "wired-brief",
   "metadata": {},
   "source": [
    "Há algumas regras para criar variáveis:\n",
    "\n",
    "1. não pode começar com número ou símbolo, mas pode ter número e `underscore` (`_`) no meio ou no fim;\n",
    "\n",
    "2. não pode conter acentos ou pontos;\n",
    "\n",
    "3. maiúsculas e minúsculas são diferentes (a variável `nome` não é igual à variável `Nome`);\n",
    "\n",
    "4. não pode ser palavra-chave de Python: `and`, `as`, `assert`, `break`, `class`, `continue`, `def`, `del`, `elif`, `else`, `except`, `exec`, `finally`, `for`, `from`, `global`, `if`, `import`, `in`, `is`, `lambda`, `nonlocal`, `not`, `or`, `pass`, `raise`, `return`, `try`, `while`, `with`, `yield`, `True`, `False`, `None`.\n",
    "\n",
    "Agora vamos fazer um teste lógico:\n",
    "\n",
    "```python\n",
    "variavel_1 = \"Ana\"\n",
    "variavel_2 = \"Maria\"\n",
    "variavel_1 = variavel_2\n",
    "print(variavel_1)\n",
    "```\n",
    "\n",
    "Qual será o resultado?"
   ]
  },
  {
   "cell_type": "markdown",
   "id": "retired-legend",
   "metadata": {},
   "source": [
    "## Tipos de dados\n",
    "\n",
    "---\n",
    "\n",
    "Nesta aula e na anterior, houve vezes em que usei valores com aspas, e outras vezes em que usei sem aspas. Exemplos:\n",
    "\n",
    "```python\n",
    "pi = 3.1416\n",
    "linguagem = \"Python\"\n",
    "```\n",
    "\n",
    "Isso porque os valores são de tipos diferentes: o primeiro pertence ao tipo numérico `float` (com decimal), enquanto o segundo pertence ao tipo não-numérico `string` (texto). Em Python, cada um tem suas particularidades. \n",
    "\n",
    "Nesta aula, vamos ver os tipos básicos e como trabalhar com eles:\n",
    "\n",
    "### Numéricos\n",
    "\n",
    "- Integer (`int`)\n",
    "    - números inteiros\n",
    "    - não usa aspas\n",
    "- Float (`float`)\n",
    "    - números decimais; números com ponto flutuante; notação científica\n",
    "    - não usa aspas\n",
    "- Complex (`complex`)\n",
    "    - números complexos, com √-1 em parte da equação\n",
    "    - em Python, número imaginário representado pela letra `j`\n",
    "    - não usa aspas"
   ]
  },
  {
   "cell_type": "code",
   "execution_count": 5,
   "id": "german-semester",
   "metadata": {},
   "outputs": [
    {
     "name": "stdout",
     "output_type": "stream",
     "text": [
      "32\n",
      "<class 'int'>\n"
     ]
    }
   ],
   "source": [
    "print(32)\n",
    "print(type(32)) # a função type() mostra o tipo de dado"
   ]
  },
  {
   "cell_type": "code",
   "execution_count": 6,
   "id": "tropical-speaker",
   "metadata": {},
   "outputs": [
    {
     "name": "stdout",
     "output_type": "stream",
     "text": [
      "32.0\n",
      "<class 'float'>\n"
     ]
    }
   ],
   "source": [
    "print(32.0)\n",
    "print(type(32.0))"
   ]
  },
  {
   "cell_type": "code",
   "execution_count": 7,
   "id": "expired-lemon",
   "metadata": {},
   "outputs": [
    {
     "name": "stdout",
     "output_type": "stream",
     "text": [
      "1e-30\n",
      "<class 'float'>\n"
     ]
    }
   ],
   "source": [
    "print(0.000000000000000000000000000001)\n",
    "print(type(0.000000000000000000000000000001))"
   ]
  },
  {
   "cell_type": "code",
   "execution_count": 8,
   "id": "improving-stability",
   "metadata": {},
   "outputs": [
    {
     "name": "stdout",
     "output_type": "stream",
     "text": [
      "1j\n",
      "<class 'complex'>\n"
     ]
    }
   ],
   "source": [
    "from cmath import sqrt  # veremos módulos nas próximas aulas\n",
    "print(sqrt(-1))\n",
    "print(type(sqrt(-1)))"
   ]
  },
  {
   "cell_type": "markdown",
   "id": "prospective-isolation",
   "metadata": {},
   "source": [
    "### Não-numérico\n",
    "\n",
    "- String (`str`)\n",
    "    - texto; sequência de caracteres alfanuméricos; letra\n",
    "    - aparecem entre aspas duplas (`\"`) ou simples (`'`)"
   ]
  },
  {
   "cell_type": "code",
   "execution_count": 9,
   "id": "induced-amount",
   "metadata": {},
   "outputs": [
    {
     "name": "stdout",
     "output_type": "stream",
     "text": [
      "abcde\n",
      "<class 'str'>\n"
     ]
    }
   ],
   "source": [
    "print(\"abcde\")\n",
    "print(type(\"abcde\"))"
   ]
  },
  {
   "cell_type": "code",
   "execution_count": 10,
   "id": "muslim-lindsay",
   "metadata": {},
   "outputs": [
    {
     "name": "stdout",
     "output_type": "stream",
     "text": [
      "a\n",
      "<class 'str'>\n"
     ]
    }
   ],
   "source": [
    "print(\"a\")\n",
    "print(type(\"a\"))"
   ]
  },
  {
   "cell_type": "code",
   "execution_count": 11,
   "id": "governing-commodity",
   "metadata": {},
   "outputs": [
    {
     "name": "stdout",
     "output_type": "stream",
     "text": [
      "1234\n",
      "<class 'int'>\n",
      "1234\n",
      "<class 'str'>\n"
     ]
    }
   ],
   "source": [
    "print(1234)\n",
    "print(type(1234))\n",
    "\n",
    "print('1234') # reparem que, ao usar aspas, converto int em str\n",
    "print(type('1234'))"
   ]
  },
  {
   "cell_type": "markdown",
   "id": "composite-documentary",
   "metadata": {},
   "source": [
    "Notem que, nas linhas acima, eu ora usei aspas duplas, ora usei aspas simples. Os dois tipos de aspas valem, mas cuidado:"
   ]
  },
  {
   "cell_type": "code",
   "execution_count": 12,
   "id": "nearby-diagnosis",
   "metadata": {},
   "outputs": [
    {
     "name": "stdout",
     "output_type": "stream",
     "text": [
      "Estou usando 'aspas simples' dentro de aspas duplas\n"
     ]
    }
   ],
   "source": [
    "print(\"Estou usando 'aspas simples' dentro de aspas duplas\")"
   ]
  },
  {
   "cell_type": "code",
   "execution_count": 13,
   "id": "owned-syntax",
   "metadata": {},
   "outputs": [
    {
     "name": "stdout",
     "output_type": "stream",
     "text": [
      "Estou usando \"aspas duplas\" dentro de aspas simples\n"
     ]
    }
   ],
   "source": [
    "print('Estou usando \"aspas duplas\" dentro de aspas simples')"
   ]
  },
  {
   "cell_type": "code",
   "execution_count": 14,
   "id": "irish-condition",
   "metadata": {},
   "outputs": [
    {
     "ename": "SyntaxError",
     "evalue": "invalid syntax (<ipython-input-14-bfb62173fc6b>, line 1)",
     "output_type": "error",
     "traceback": [
      "\u001b[0;36m  File \u001b[0;32m\"<ipython-input-14-bfb62173fc6b>\"\u001b[0;36m, line \u001b[0;32m1\u001b[0m\n\u001b[0;31m    print('O que acontece se, dentro de 'aspas simples', eu usar aspas simples?')\u001b[0m\n\u001b[0m                                         ^\u001b[0m\n\u001b[0;31mSyntaxError\u001b[0m\u001b[0;31m:\u001b[0m invalid syntax\n"
     ]
    }
   ],
   "source": [
    "print('O que acontece se, dentro de 'aspas simples', eu usar aspas simples?')"
   ]
  },
  {
   "cell_type": "code",
   "execution_count": 15,
   "id": "leading-resort",
   "metadata": {},
   "outputs": [
    {
     "ename": "SyntaxError",
     "evalue": "invalid syntax (<ipython-input-15-9d3468675ccf>, line 1)",
     "output_type": "error",
     "traceback": [
      "\u001b[0;36m  File \u001b[0;32m\"<ipython-input-15-9d3468675ccf>\"\u001b[0;36m, line \u001b[0;32m1\u001b[0m\n\u001b[0;31m    print(\"O mesmo acontece com \"aspas duplas\" dentro de aspas duplas?\")\u001b[0m\n\u001b[0m                                 ^\u001b[0m\n\u001b[0;31mSyntaxError\u001b[0m\u001b[0;31m:\u001b[0m invalid syntax\n"
     ]
    }
   ],
   "source": [
    "print(\"O mesmo acontece com \"aspas duplas\" dentro de aspas duplas?\")"
   ]
  },
  {
   "cell_type": "markdown",
   "id": "greater-criterion",
   "metadata": {},
   "source": [
    "Nos dois últimos exemplos, eu tive erro de sintaxe. Isso ocorre porque a máquina entende que os dados se encerram no fechamento de aspas e não sabe o que fazer com o restante da informação:\n",
    "\n",
    "- No primeiro exemplo, a máquina só computou `'O que acontece se, dentro de '`;\n",
    "- No segundo exemplo, a máquina computou `\"O mesmo acontece com \"`.\n",
    "\n",
    "Uma opção é usar `escape` (`\\`) nas aspas internas. `Escape` funciona para eu avisar a máquina: \"interprete de maneira literal, como aspas; não considere como fim de um texto\".\n"
   ]
  },
  {
   "cell_type": "code",
   "execution_count": 16,
   "id": "given-soccer",
   "metadata": {},
   "outputs": [
    {
     "name": "stdout",
     "output_type": "stream",
     "text": [
      "E agora? Consigo usar 'aspas simples' dentro de aspas simples?\n"
     ]
    }
   ],
   "source": [
    "print('E agora? Consigo usar \\'aspas simples\\' dentro de aspas simples?')"
   ]
  },
  {
   "cell_type": "code",
   "execution_count": 17,
   "id": "adult-england",
   "metadata": {},
   "outputs": [
    {
     "name": "stdout",
     "output_type": "stream",
     "text": [
      "E \"aspas duplas\" dentro de aspas duplas?\n"
     ]
    }
   ],
   "source": [
    "print(\"E \\\"aspas duplas\\\" dentro de aspas duplas?\")"
   ]
  },
  {
   "cell_type": "markdown",
   "id": "occupational-gross",
   "metadata": {},
   "source": [
    "### Lógico\n",
    "\n",
    "- Boolean (`bool`)\n",
    "    - comporta apenas dois valores: `True` (verdadeiro) e `False` (falso)\n",
    "    - nos \"bastidores\", funciona como número, sendo `0` para `False` e `1` para `True`\n",
    "    - assim como números, não usa aspas"
   ]
  },
  {
   "cell_type": "code",
   "execution_count": 18,
   "id": "welsh-sponsorship",
   "metadata": {},
   "outputs": [
    {
     "name": "stdout",
     "output_type": "stream",
     "text": [
      "True\n",
      "<class 'bool'>\n"
     ]
    }
   ],
   "source": [
    "print(True)\n",
    "print(type(True))"
   ]
  },
  {
   "cell_type": "code",
   "execution_count": 19,
   "id": "piano-voltage",
   "metadata": {},
   "outputs": [
    {
     "name": "stdout",
     "output_type": "stream",
     "text": [
      "False\n",
      "<class 'bool'>\n"
     ]
    }
   ],
   "source": [
    "print(False)\n",
    "print(type(False))"
   ]
  },
  {
   "cell_type": "code",
   "execution_count": 20,
   "id": "toxic-sword",
   "metadata": {},
   "outputs": [
    {
     "name": "stdout",
     "output_type": "stream",
     "text": [
      "False\n"
     ]
    }
   ],
   "source": [
    "print(2 > 3)"
   ]
  },
  {
   "cell_type": "code",
   "execution_count": 21,
   "id": "equal-chemical",
   "metadata": {},
   "outputs": [
    {
     "name": "stdout",
     "output_type": "stream",
     "text": [
      "True\n"
     ]
    }
   ],
   "source": [
    "print(2 < 3)"
   ]
  },
  {
   "cell_type": "markdown",
   "id": "occasional-convertible",
   "metadata": {},
   "source": [
    "## Operações aritméticas\n",
    "\n",
    "Agora que sabemos o que são **variáveis** e conhecemos os **tipos básicos**, podemos juntar as duas coisas para resolver **operações matemáticas**. Por exemplo, descobrir o salário mínimo por dia:"
   ]
  },
  {
   "cell_type": "code",
   "execution_count": 22,
   "id": "going-dakota",
   "metadata": {},
   "outputs": [
    {
     "name": "stdout",
     "output_type": "stream",
     "text": [
      "50.0\n"
     ]
    }
   ],
   "source": [
    "sal_minimo = 1100\n",
    "dias_uteis = 22\n",
    "print(sal_minimo / dias_uteis)"
   ]
  },
  {
   "cell_type": "markdown",
   "id": "spoken-mechanics",
   "metadata": {},
   "source": [
    "Ou, como no exercício da aula anterior, calcular a área de um círculo de 12,7 metros de raio:"
   ]
  },
  {
   "cell_type": "code",
   "execution_count": 23,
   "id": "relevant-canvas",
   "metadata": {},
   "outputs": [
    {
     "name": "stdout",
     "output_type": "stream",
     "text": [
      "506.70705109999994\n"
     ]
    }
   ],
   "source": [
    "raio = 12.7\n",
    "pi = 3.14159\n",
    "area = pi * (raio**2)\n",
    "print(area)"
   ]
  },
  {
   "cell_type": "markdown",
   "id": "optimum-honolulu",
   "metadata": {},
   "source": [
    "No primeiro exemplo, eu dividi o salário mínimo (`sal_minimo`) pela quantidade de dias úteis (`dias_uteis`) em um mês. Para isso, usei o símbolo de divisão (`/`).\n",
    "\n",
    "No segundo exemplo, elevei o raio (`raio`) ao quadrado usando o símbolo de exponenciação (`**`) e, a ele, multipliquei o valor de pi (`pi`) com o símbolo de multiplicação (`*`).\n",
    "\n",
    "Os operadores são:\n",
    "\n",
    "- adição: `+`\n",
    "- subtração: `-`\n",
    "- multiplicação: `*`\n",
    "- divisão: `/`\n",
    "- exponenciação: `**`\n",
    "- parte inteira (descarta decimais): `//`\n",
    "- módulo (o resto de uma divisão): `%`\n",
    "\n",
    "Cabe ressaltar: a ordem de execução de operações segue a ordem convencional na matemática:\n",
    "\n",
    "1. exponenciação\n",
    "2. multiplicação e divisão\n",
    "3. soma e subtração\n",
    "\n",
    "Podemos sobrescrever essa ordem usando parênteses."
   ]
  },
  {
   "cell_type": "code",
   "execution_count": 24,
   "id": "measured-terrain",
   "metadata": {},
   "outputs": [
    {
     "name": "stdout",
     "output_type": "stream",
     "text": [
      "14\n"
     ]
    }
   ],
   "source": [
    "print(2 + 3 * 4) # multiplica 3 e 4, e depois adiciona 2"
   ]
  },
  {
   "cell_type": "code",
   "execution_count": 25,
   "id": "committed-mixer",
   "metadata": {},
   "outputs": [
    {
     "name": "stdout",
     "output_type": "stream",
     "text": [
      "20\n"
     ]
    }
   ],
   "source": [
    "print((2 + 3) * 4) # soma 2 e 3, e depois multiplica por 4"
   ]
  },
  {
   "cell_type": "markdown",
   "id": "female-fantasy",
   "metadata": {},
   "source": [
    "**Exercício 1**\n",
    "\n",
    "Sem rodar código algum e considerando as variáveis...\n",
    "\n",
    "```python\n",
    "quatro = 7\n",
    "zero = 2\n",
    "```\n",
    "\n",
    "...diga: qual o `output` de cada comando abaixo?\n",
    "\n",
    "```python\n",
    "print(quatro + zero)\n",
    "print(quatro / zero)\n",
    "print(quatro // zero)\n",
    "print(quatro % zero)\n",
    "print(quatro * zero - quatro / zero)\n",
    "print(quatro * (zero - quatro) / zero)\n",
    "```"
   ]
  },
  {
   "cell_type": "markdown",
   "id": "miniature-chase",
   "metadata": {},
   "source": [
    "**Exercício 2**\n",
    "\n",
    "Segundo o [G1](https://g1.globo.com/bemestar/vacina/noticia/2021/07/09/vacinacao-no-brasil-mais-de-14percent-da-populacao-tomou-as-duas-doses-ou-dose-unica-de-vacinas-contra-a-covid.ghtml) em 9 de julho, até aquela data 82.908.617 pessoas haviam tomado a primeira dose da vacina contra a covid-19. Especificamente naquele dia, 994.468 pessoas tomaram a primeira dose.\n",
    "\n",
    "Arredondando, o Brasil tem 212 milhões de habitantes, dos quais cerca de 21% tem menos de 18 anos -- ou seja, não são elegíveis para a vacinação.\n",
    "\n",
    "1. Quantos brasileiros são elegíveis para a vacinação?\n",
    "2. Se o ritmo de vacinação da primeira dose se mantiver como no dia 9 de julho, em quantos dias (partindo do dia posterior, dia 10) toda a população elegível terá recebido a primeira dose?"
   ]
  },
  {
   "cell_type": "markdown",
   "id": "parental-mineral",
   "metadata": {},
   "source": [
    "**Tarefa**\n",
    "\n",
    "- Vale 0,2 pontos\n",
    "- Enviar respostas + scripts `.py` para eu@rodolfoviana.com.br até dia 21/07\n",
    "\n",
    "Segundo a FGV Social, a partir dos microdados da Pnad-C Anual e Pnad Covid, do IBGE, a pirâmide populacional de classes econômicas se mostra da seguinte forma:\n",
    "\n",
    "  |período   |renda               |população\n",
    "  |----------|------------------- |------------|\n",
    "  |2012      |menos de ½ sm       |65.800.895|\n",
    "  |          | ½ a 1 sm           | 59.990.268|\n",
    "  |          | 1 a menos de 2 sm  | 44.343.219|\n",
    "  |          | 2 a menos de 4 sm  | 18.125.985|\n",
    "  |          | 4 sm ou mais       | 10.054.567|\n",
    "  |2019      | menos de ½ sm      | 65.229.668|\n",
    "  |          | ½ a 1 sm           | 61.909.343|\n",
    "  |          | 1 a menos de 2 sm  | 50.078.060|\n",
    "  |          | 2 a menos de 4 sm  | 21.519.066|\n",
    "  |          | 4 sm ou mais       | 11.410.989|\n",
    "  |jul.2020  | menos de ½ sm      | 52.127.922|\n",
    "  |          | ½ a 1 sm           | 76.318.115|\n",
    "  |          | 1 a menos de 2 sm  | 56.215.080|\n",
    "  |          | 2 a menos de 4 sm  | 18.646.895|\n",
    "  |          | 4 sm ou mais       | 8.447.679|\n",
    "  |ago.2020  | menos de ½ sm      | 50.176.044|\n",
    "  |          | ½ a 1 sm           | 76.590.769|\n",
    "  |          | 1 a menos de 2 sm  | 56.859.091|\n",
    "  |          | 2 a menos de 4 sm  | 19.185.258|\n",
    "  |          | 4 sm ou mais       | 8.930.353|\n",
    "\n",
    "(Cabe ressaltar que, como a população cresce a cada mês, trabalhar com números brutos pode induzir a erro. Em alguns casos, é importante trabalhar com proporções -- ou seja, a parte (%) em relação ao total da população do referido período.)\n",
    "\n",
    "Segundo o release do estudo,\n",
    "\n",
    "> Levantamento de classes econômicas brasileiras realizado a partir de dados factuais coletados durante a pandemia mostra que o número de pobres no Brasil (renda domiciliar per capita até ½ salário mínimo) caiu 15 milhões entre 2019 e agosto de 2020. \n",
    "\n",
    "**Pergunta 1:** Essa informação é verdadeira?\n",
    "\n",
    "**Pergunta 2:** Qual foi a queda percentual?\n",
    "\n",
    "Também segundo o release,\n",
    "\n",
    "> Já os estratos mais abastados com renda acima de dois salários mínimos per capita perderam 4,8 milhões de pessoas em plena pandemia.\n",
    "\n",
    "**Pergunta 3:** Essa informação é verdadeira?\n",
    "\n",
    "**Pergunta 4:** Qual foi a queda percentual?\n",
    "\n",
    "**Pergunta 5:** Qual foi a variação em cada faixa da pirâmide entre jul.2020 e ago.2020?\n",
    "\n",
    "**Pergunta 6:** Comparando ago.2020 com 2012, qual classe econômica teve maior aumento? E qual teve maior queda?\n",
    "\n",
    "Fonte: [CPS-FGV](https://www.cps.fgv.br/cps/bd/docs/CovidEAsClassesEconomicas_FGV_Social_Neri-OUT-2020.pdf)"
   ]
  }
 ],
 "metadata": {
  "kernelspec": {
   "display_name": "Python 3.8.5 64-bit",
   "language": "python",
   "name": "python385jvsc74a57bd031f2aee4e71d21fbe5cf8b01ff0e069b9275f58929596ceb00d14d90e3e16cd6"
  },
  "language_info": {
   "codemirror_mode": {
    "name": "ipython",
    "version": 3
   },
   "file_extension": ".py",
   "mimetype": "text/x-python",
   "name": "python",
   "nbconvert_exporter": "python",
   "pygments_lexer": "ipython3",
   "version": "3.8.10"
  }
 },
 "nbformat": 4,
 "nbformat_minor": 5
}
